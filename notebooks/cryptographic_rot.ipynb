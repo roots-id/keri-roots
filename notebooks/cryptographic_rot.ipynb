{
 "cells": [
  {
   "cell_type": "markdown",
   "id": "5ccc5e88-2a8e-4934-a6f5-60500c936ec1",
   "metadata": {
    "tags": []
   },
   "source": [
    "# KERI Basics\n",
    "\n",
    "## Here we explore what Cryptographic Root of Trust and how it relates to:\n",
    "* Private Keys\n",
    "* Public Keys\n",
    "* Identifiers\n",
    "\n",
    "### Pysodium\n",
    "Pysodium is a library that we'll use to produce the cryptographic primitives that we need. Lets install that first:"
   ]
  },
  {
   "cell_type": "code",
   "execution_count": 1,
   "id": "e8a634ea-46c5-47a4-b5c5-f507ddcba782",
   "metadata": {
    "tags": []
   },
   "outputs": [
    {
     "name": "stdout",
     "output_type": "stream",
     "text": [
      "Note: you may need to restart the kernel to use updated packages.\n"
     ]
    }
   ],
   "source": [
    "%pip install -q pysodium"
   ]
  },
  {
   "cell_type": "code",
   "execution_count": 2,
   "id": "2fc85300-ddba-44fe-83ff-9cdfdf991aa3",
   "metadata": {
    "tags": []
   },
   "outputs": [
    {
     "name": "stdout",
     "output_type": "stream",
     "text": [
      "The random/entropy as bytes:  b'X\\xad\\x82\\xb95\\xf1\\xabN\\xafM\\xb5\\x9f\\x9c*\\xa9S'\n"
     ]
    }
   ],
   "source": [
    "import sys\n",
    "import string\n",
    "import secrets\n",
    "import pysodium\n",
    "\n",
    "#salt is bytes 16 byte long root cryptomatter from which seeds for Signers in list are derived\n",
    "salt = pysodium.randombytes(pysodium.crypto_pwhash_SALTBYTES)\n",
    "print(\"The random/entropy as bytes: \",salt)\n",
    "assert len(salt) == 16"
   ]
  },
  {
   "cell_type": "code",
   "execution_count": 3,
   "id": "edaba0cf-49f4-4b52-8d9e-162390c4cfba",
   "metadata": {
    "tags": []
   },
   "outputs": [
    {
     "name": "stdout",
     "output_type": "stream",
     "text": [
      "Stretched the entropy with Argon2id b'\\x9428\\xba\\x93E\\x8e\\xe2=C&\\xd6\\x89\\xf4\\x9aYe\\xf2]\\xa8\\xef\\x91\\x84Zxn\\xa0N\\x01\\x02e\\xbb'\n"
     ]
    }
   ],
   "source": [
    "seed = pysodium.crypto_pwhash(outlen=32,\n",
    "                                      passwd=\"0\",\n",
    "                                      salt=salt,\n",
    "                                      opslimit=2,  # pysodium.crypto_pwhash_OPSLIMIT_INTERACTIVE,\n",
    "                                      memlimit=67108864,  # pysodium.crypto_pwhash_MEMLIMIT_INTERACTIVE,\n",
    "                                      alg=pysodium.crypto_pwhash_ALG_ARGON2ID13)\n",
    "print(\"Stretched the entropy with Argon2id\",seed)"
   ]
  },
  {
   "cell_type": "code",
   "execution_count": 4,
   "id": "a20fa46a-b052-42e0-bba6-ca6958e12063",
   "metadata": {
    "tags": []
   },
   "outputs": [
    {
     "name": "stdout",
     "output_type": "stream",
     "text": [
      "Note: you may need to restart the kernel to use updated packages.\n"
     ]
    }
   ],
   "source": [
    "%pip install -q keri"
   ]
  },
  {
   "cell_type": "code",
   "execution_count": 5,
   "id": "c62e0ed2-19b2-4c82-923d-cf89a8e78c96",
   "metadata": {
    "tags": []
   },
   "outputs": [
    {
     "name": "stdout",
     "output_type": "stream",
     "text": [
      "Private (signing) key of signer, encoded as base64 AJQyOLqTRY7iPUMm1on0mlll8l2o75GEWnhuoE4BAmW7\n",
      "Public (verification) key of signer, encoded as base64 BK9l9vbX7b2quhsf8azwUj9AMbp9BL4H-rY5izRGx5lb\n"
     ]
    }
   ],
   "source": [
    "# see https://github.com/WebOfTrust/keripy/blob/development/src/keri/core/coring.py\n",
    "from keri.core import (coring)\n",
    "#non-transferrable, basic derivation (simplest)\n",
    "signer = coring.Signer(raw=seed, transferable=False)\n",
    "# fetch sigkey as private key\n",
    "print(\"Private (signing) key of signer, encoded as base64\",signer.qb64)\n",
    "# fetch verkey as public key\n",
    "print(\"Public (verification) key of signer, encoded as base64\",signer.verfer.qb64)\n",
    "assert signer.verfer.code == coring.MtrDex.Ed25519N"
   ]
  },
  {
   "cell_type": "code",
   "execution_count": 6,
   "id": "47e2671a-96f0-4cc6-b349-ec7527bdd527",
   "metadata": {
    "tags": []
   },
   "outputs": [
    {
     "name": "stdout",
     "output_type": "stream",
     "text": [
      "Signature is b'0BB5dUrokhX1kwVZ_bYM94Ip1G3otmaukc9qvudpmYUrtcBLIGHjRtsZaS_oA3qH3qjwls-u371_sFRHBAvBrgwP'\n"
     ]
    }
   ],
   "source": [
    "message = \"Sign me, please\"\n",
    "#In this case a Cigar in KERI\n",
    "#see libsodium/pysodium crypto_sign_seed_keypair\n",
    "signature = signer.sign(message)\n",
    "print(\"Signature is\",signature.qb64b)"
   ]
  },
  {
   "cell_type": "code",
   "execution_count": 7,
   "id": "32654d5e-c979-4e91-b5c0-14d63804a886",
   "metadata": {},
   "outputs": [
    {
     "name": "stdout",
     "output_type": "stream",
     "text": [
      "Verified message? True\n"
     ]
    }
   ],
   "source": [
    "result = signer.verfer.verify(signature.raw,message)\n",
    "print(\"Verified message?\",result)\n",
    "assert result"
   ]
  },
  {
   "cell_type": "code",
   "execution_count": 8,
   "id": "45976634",
   "metadata": {},
   "outputs": [],
   "source": [
    "from keri.core.coring import Verfer, Prefixer, MtrDex \n",
    "verfer = signer.verfer\n",
    "verkey = verfer.raw\n",
    "verfer = Verfer(raw=verkey, code=MtrDex.Ed25519N)\n",
    "ked = dict(k=[verfer.qb64], n=\"\", t=\"icp\", i=verfer.qb64)\n",
    "prefixer = Prefixer(ked=ked, code=MtrDex.Ed25519N)  # verfer code match code and pre code\n",
    "assert prefixer.qb64 == verfer.qb64\n",
    "assert prefixer.verify(ked=ked) == True\n",
    "assert prefixer.verify(ked=ked, prefixed=True) == True"
   ]
  },
  {
   "cell_type": "code",
   "execution_count": 9,
   "id": "99bd1a5d",
   "metadata": {
    "tags": []
   },
   "outputs": [],
   "source": [
    "import keri.core.eventing as eventing\n",
    "# code marks this identifier as basic\n",
    "#srdr = eventing.incept(keys=[signer.verfer.qb64], code=coring.MtrDex.Ed25519)  \n",
    "#print(srdr.raw.decode(\"utf-8\"))"
   ]
  }
 ],
 "metadata": {
  "kernelspec": {
   "display_name": "Python 3 (ipykernel)",
   "language": "python",
   "name": "python3"
  },
  "language_info": {
   "codemirror_mode": {
    "name": "ipython",
    "version": 3
   },
   "file_extension": ".py",
   "mimetype": "text/x-python",
   "name": "python",
   "nbconvert_exporter": "python",
   "pygments_lexer": "ipython3",
   "version": "3.10.8"
  },
  "vscode": {
   "interpreter": {
    "hash": "6ecdebf77f2ee3a47348d003f751c63e810ca996c1c68d1179f338200fa83b34"
   }
  }
 },
 "nbformat": 4,
 "nbformat_minor": 5
}
