{
 "cells": [
  {
   "cell_type": "markdown",
   "id": "61c5438c",
   "metadata": {},
   "source": [
    "### This Notebook shows how a **Backer** can writte KERI Key Events to Cardano blockchain and how a **Watcher** can retrieve the full Key Event Log (KEL) from the blockchain.\n",
    "This code use Blockfrost API to intercat with Cardano Nodes"
   ]
  },
  {
   "cell_type": "code",
   "execution_count": null,
   "id": "31d3ab42",
   "metadata": {},
   "outputs": [],
   "source": [
    "from blockfrost import BlockFrostApi, ApiError, ApiUrls\n",
    "from pycardano import * \n",
    "import os"
   ]
  },
  {
   "cell_type": "markdown",
   "id": "cbf68285",
   "metadata": {},
   "source": [
    "First create a ProjectId in https://blockfrost.io for the network of your choice. In this case we are using the _Preview_ network.\n",
    "Put your projectId in an evironmental variable or paste it in the code bellow."
   ]
  },
  {
   "cell_type": "code",
   "execution_count": null,
   "id": "5ef4ad41",
   "metadata": {},
   "outputs": [],
   "source": [
    "blockfrostProjectId = os.getenv('BLOCKFROST_PROJECT_ID')\n",
    "blockfrostProjectId=\"xxx\"\n",
    "api = BlockFrostApi(\n",
    "    project_id=blockfrostProjectId,\n",
    "    base_url=ApiUrls.preview.value\n",
    ")\n",
    "network = Network.TESTNET\n",
    "context = BlockFrostChainContext(blockfrostProjectId,network, ApiUrls.preview.value)"
   ]
  },
  {
   "cell_type": "markdown",
   "id": "d734967b",
   "metadata": {},
   "source": [
    "Generate payment and stake key pairs. You can Save and Load on this disk."
   ]
  },
  {
   "cell_type": "code",
   "execution_count": null,
   "id": "fc6398ef",
   "metadata": {},
   "outputs": [],
   "source": [
    "payment_key_pair = PaymentKeyPair.generate()\n",
    "payment_signing_key = payment_key_pair.signing_key\n",
    "payment_verification_key = payment_key_pair.verification_key\n",
    "\n",
    "stake_key_pair = StakeKeyPair.generate()\n",
    "stake_signing_key = stake_key_pair.signing_key\n",
    "stake_verification_key = stake_key_pair.verification_key"
   ]
  },
  {
   "cell_type": "code",
   "execution_count": null,
   "id": "b5aca702",
   "metadata": {},
   "outputs": [],
   "source": [
    "# Save keys\n",
    "payment_signing_key.save(\"payment.skey\")\n",
    "payment_verification_key.save(\"payment.vkey\")\n",
    "stake_signing_key.save(\"stake.skey\")\n",
    "stake_verification_key.save(\"stake.vkey\")"
   ]
  },
  {
   "cell_type": "code",
   "execution_count": null,
   "id": "072ac5b3",
   "metadata": {},
   "outputs": [],
   "source": [
    "# Load keys\n",
    "payment_signing_key = PaymentSigningKey.load(\"payment.skey\")\n",
    "payment_verification_key = PaymentVerificationKey.load(\"payment.vkey\")\n",
    "stake_signing_key = StakeSigningKey.load(\"stake.skey\")\n",
    "stake_verification_key = StakeVerificationKey.load(\"stake.vkey\")"
   ]
  },
  {
   "cell_type": "markdown",
   "id": "6117da3a",
   "metadata": {},
   "source": [
    "Generate the Stake Address and the Spending Address that the Backer will use to submit transactions with metadata to Cardano.\n",
    "You can fund the Spending Address with test ADA at https://docs.cardano.org/cardano-testnet/tools/faucet\""
   ]
  },
  {
   "cell_type": "code",
   "execution_count": null,
   "id": "edec835f",
   "metadata": {},
   "outputs": [],
   "source": [
    "spending_addr = Address(payment_verification_key.hash(), stake_verification_key.hash(), network=network)\n",
    "stake_addr = Address(payment_part=None, staking_part=stake_verification_key.hash(), network=network)\n",
    "print(\"Stake address:\", stake_addr.encode())\n",
    "print(\"Spending Address:\", spending_addr.encode())"
   ]
  },
  {
   "cell_type": "markdown",
   "id": "0b40df8c",
   "metadata": {},
   "source": [
    "Using Blockfrost API you can query ADA balances and UTXOs"
   ]
  },
  {
   "cell_type": "code",
   "execution_count": null,
   "id": "dbd17a40",
   "metadata": {},
   "outputs": [],
   "source": [
    "# Check address balance\n",
    "address = api.address(\n",
    "        address=spending_addr.encode())\n",
    "for amount in address.amount:\n",
    "    print(amount.quantity, amount.unit)"
   ]
  },
  {
   "cell_type": "code",
   "execution_count": null,
   "id": "e510c810",
   "metadata": {},
   "outputs": [],
   "source": [
    "# Check wallet balance\n",
    "addresses = api.account_addresses(stake_addr.encode())\n",
    "for addr in addresses:\n",
    "    addrR = api.address(addr.address)\n",
    "    for amount in addrR.amount:\n",
    "        print(amount.quantity, amount.unit,\":\", addrR.address)\n"
   ]
  },
  {
   "cell_type": "code",
   "execution_count": null,
   "id": "f734f6f5",
   "metadata": {},
   "outputs": [],
   "source": [
    "# Get UTXOs\n",
    "utxos = api.address_utxos(spending_addr.encode())\n",
    "print(utxos)"
   ]
  },
  {
   "cell_type": "markdown",
   "id": "35849cbe",
   "metadata": {},
   "source": [
    "Build and sign a transaction. The Key Event is added as transaction metadata."
   ]
  },
  {
   "cell_type": "code",
   "execution_count": null,
   "id": "d1042822",
   "metadata": {},
   "outputs": [],
   "source": [
    "builder = TransactionBuilder(context)\n",
    "builder.add_input_address(spending_addr)\n",
    "builder.add_output(TransactionOutput(spending_addr,Value.from_primitive([1000000])))\n",
    "builder.auxiliary_data = AuxiliaryData(Metadata(\n",
    "            { \n",
    "                1: {\n",
    "                    \"v\": \"KERI10JSON000159_\",\n",
    "                    \"t\": \"icp\",\n",
    "                    \"d\": \"EDRc4HIqxKvCeafMxSMJM2tuQfkERkgtzUAAVLdk-bhj\",\n",
    "                    \"i\": \"EDRc4HIqxKvCeafMxSMJM2tuQfkERkgtzUAAVLdk-bhj\",\n",
    "                    \"s\": \"0\",\n",
    "                    \"kt\": \"1\",\n",
    "                    \"k\": [\n",
    "                    \"DNnrwNUFl070TGU8wlYSZZ0WZ-V5WbDqXnBv-HkXjQ4x\"\n",
    "                    ],\n",
    "                    \"nt\": \"1\",\n",
    "                    \"n\": [\n",
    "                    \"EJ2BHzcravgL1BfgEbNo8V181WNvKprybAkae4QSLaG1\"\n",
    "                    ],\n",
    "                    \"bt\": \"1\",\n",
    "                    \"b\": [\n",
    "                    \"BBilc4-L3tFUnfM_wJr4S4OJanAv_VmF_dJNN6vkf2Ha\"\n",
    "                    ],\n",
    "                    \"c\": [],\n",
    "                    \"a\": []\n",
    "                }\n",
    "            }\n",
    "        )\n",
    "    )\n",
    "signed_tx = builder.build_and_sign([payment_signing_key], change_address=spending_addr)\n",
    "print(signed_tx.id)"
   ]
  },
  {
   "cell_type": "markdown",
   "id": "b8e463d6",
   "metadata": {},
   "source": [
    "Submit transaction to Cardano"
   ]
  },
  {
   "cell_type": "code",
   "execution_count": null,
   "id": "06ec1165",
   "metadata": {},
   "outputs": [],
   "source": [
    "context.submit_tx(signed_tx.to_cbor())"
   ]
  },
  {
   "cell_type": "markdown",
   "id": "8e10334b",
   "metadata": {},
   "source": [
    "Check transaction. It may takes time to get published"
   ]
  },
  {
   "cell_type": "code",
   "execution_count": null,
   "id": "8b16ba55",
   "metadata": {},
   "outputs": [],
   "source": [
    "tx = api.transaction(signed_tx.id)\n",
    "print(tx)"
   ]
  },
  {
   "cell_type": "code",
   "execution_count": null,
   "id": "bb81f891",
   "metadata": {},
   "outputs": [],
   "source": [
    "metadata = api.transaction_metadata(signed_tx.id)\n",
    "print(metadata)"
   ]
  },
  {
   "cell_type": "markdown",
   "id": "76c43845",
   "metadata": {},
   "source": [
    "The Backer should submit transactions any time it receives a Key Event.\n",
    "The Watcher can retrieve the full KEL from Cardano blockchain as follows:"
   ]
  },
  {
   "cell_type": "code",
   "execution_count": null,
   "id": "21784bd4",
   "metadata": {},
   "outputs": [],
   "source": [
    "txs = api.address_transactions(spending_addr.encode())\n",
    "for tx in txs:\n",
    "    print(api.transaction_metadata(tx.tx_hash))"
   ]
  }
 ],
 "metadata": {
  "kernelspec": {
   "display_name": "Python 3.10.4 64-bit ('3.10.4')",
   "language": "python",
   "name": "python3"
  },
  "language_info": {
   "codemirror_mode": {
    "name": "ipython",
    "version": 3
   },
   "file_extension": ".py",
   "mimetype": "text/x-python",
   "name": "python",
   "nbconvert_exporter": "python",
   "pygments_lexer": "ipython3",
   "version": "3.10.4"
  },
  "vscode": {
   "interpreter": {
    "hash": "657457231345a1573390f5ba8c93db47783ada1b282114062903863290ed8fb1"
   }
  }
 },
 "nbformat": 4,
 "nbformat_minor": 5
}
