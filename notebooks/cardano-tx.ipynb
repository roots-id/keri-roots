{
 "cells": [
  {
   "cell_type": "markdown",
   "id": "61c5438c",
   "metadata": {},
   "source": [
    "### This Notebook shows how a **Backer** can writte KERI Key Events to Cardano blockchain and how a **Watcher** can retrieve the full Key Event Log (KEL) from the blockchain.\n",
    "This code use Blockfrost API to intercat with Cardano Nodes."
   ]
  },
  {
   "cell_type": "code",
   "execution_count": 1,
   "id": "31d3ab42",
   "metadata": {},
   "outputs": [],
   "source": [
    "from blockfrost import BlockFrostApi, ApiError, ApiUrls\n",
    "from pycardano import * \n",
    "import os\n",
    "import json\n",
    "from cbor2 import dumps, loads"
   ]
  },
  {
   "cell_type": "markdown",
   "id": "cbf68285",
   "metadata": {},
   "source": [
    "First create a ProjectId in https://blockfrost.io for the network of your choice. In this case we are using the _Preview_ network.\n",
    "Put your projectId in an evironmental variable or paste it in the code bellow."
   ]
  },
  {
   "cell_type": "code",
   "execution_count": 2,
   "id": "5ef4ad41",
   "metadata": {},
   "outputs": [],
   "source": [
    "blockfrostProjectId = os.getenv('BLOCKFROST_PROJECT_ID')\n",
    "blockfrostProjectId=\"previewapifaDDKsMZE7asmrcG8W3zbRE1pojXY\"\n",
    "api = BlockFrostApi(\n",
    "    project_id=blockfrostProjectId,\n",
    "    base_url=ApiUrls.preview.value\n",
    ")\n",
    "network = Network.TESTNET\n",
    "context = BlockFrostChainContext(blockfrostProjectId,network, ApiUrls.preview.value)"
   ]
  },
  {
   "cell_type": "markdown",
   "id": "d734967b",
   "metadata": {},
   "source": [
    "Generate payment and stake key pairs. You can Save and Load on this disk."
   ]
  },
  {
   "cell_type": "code",
   "execution_count": 3,
   "id": "fc6398ef",
   "metadata": {},
   "outputs": [],
   "source": [
    "payment_key_pair = PaymentKeyPair.generate()\n",
    "payment_signing_key = payment_key_pair.signing_key\n",
    "payment_verification_key = payment_key_pair.verification_key\n",
    "\n",
    "stake_key_pair = StakeKeyPair.generate()\n",
    "stake_signing_key = stake_key_pair.signing_key\n",
    "stake_verification_key = stake_key_pair.verification_key"
   ]
  },
  {
   "cell_type": "code",
   "execution_count": null,
   "id": "b5aca702",
   "metadata": {},
   "outputs": [],
   "source": [
    "# Save keys\n",
    "payment_signing_key.save(\"payment.skey\")\n",
    "payment_verification_key.save(\"payment.vkey\")\n",
    "stake_signing_key.save(\"stake.skey\")\n",
    "stake_verification_key.save(\"stake.vkey\")"
   ]
  },
  {
   "cell_type": "code",
   "execution_count": 3,
   "id": "072ac5b3",
   "metadata": {},
   "outputs": [],
   "source": [
    "# Load keys\n",
    "payment_signing_key = PaymentSigningKey.load(\"payment.skey\")\n",
    "payment_verification_key = PaymentVerificationKey.load(\"payment.vkey\")\n",
    "stake_signing_key = StakeSigningKey.load(\"stake.skey\")\n",
    "stake_verification_key = StakeVerificationKey.load(\"stake.vkey\")"
   ]
  },
  {
   "cell_type": "markdown",
   "id": "6117da3a",
   "metadata": {},
   "source": [
    "Generate the Stake Address and the Spending Address that the Backer will use to submit transactions with metadata to Cardano.\n",
    "The you can fund the Spending Address with test ADA at https://docs.cardano.org/cardano-testnet/tools/faucet\""
   ]
  },
  {
   "cell_type": "code",
   "execution_count": 4,
   "id": "edec835f",
   "metadata": {},
   "outputs": [
    {
     "name": "stdout",
     "output_type": "stream",
     "text": [
      "Stake address: stake_test1ur3vs3x0xl97tt2gau5wknmxve0jlmsqn2l2dqrrt40tgzsmhat72\n",
      "Spending Address: addr_test1qrtvrpe58csevt7esxqjv4rpvm5q30paghtlse2pj3xn8g0zepzv7d7tukk53megad8kvejl9lhqpx4756qxxh27ks9qqxkex3\n"
     ]
    }
   ],
   "source": [
    "spending_addr = Address(payment_verification_key.hash(), stake_verification_key.hash(), network=network)\n",
    "stake_addr = Address(payment_part=None, staking_part=stake_verification_key.hash(), network=network)\n",
    "print(\"Stake address:\", stake_addr.encode())\n",
    "print(\"Spending Address:\", spending_addr.encode())"
   ]
  },
  {
   "cell_type": "markdown",
   "id": "0b40df8c",
   "metadata": {},
   "source": [
    "Using Blockfrost API you can query ADA balances and UTXOs"
   ]
  },
  {
   "cell_type": "code",
   "execution_count": 5,
   "id": "dbd17a40",
   "metadata": {},
   "outputs": [
    {
     "name": "stdout",
     "output_type": "stream",
     "text": [
      "99801279 lovelace\n"
     ]
    }
   ],
   "source": [
    "# Check address balance\n",
    "address = api.address(\n",
    "        address=spending_addr.encode())\n",
    "for amount in address.amount:\n",
    "    print(amount.quantity, amount.unit)"
   ]
  },
  {
   "cell_type": "code",
   "execution_count": 6,
   "id": "e510c810",
   "metadata": {},
   "outputs": [
    {
     "name": "stdout",
     "output_type": "stream",
     "text": [
      "99801279 lovelace : addr_test1qrtvrpe58csevt7esxqjv4rpvm5q30paghtlse2pj3xn8g0zepzv7d7tukk53megad8kvejl9lhqpx4756qxxh27ks9qqxkex3\n"
     ]
    }
   ],
   "source": [
    "# Check wallet balance\n",
    "addresses = api.account_addresses(stake_addr.encode())\n",
    "for addr in addresses:\n",
    "    addrR = api.address(addr.address)\n",
    "    for amount in addrR.amount:\n",
    "        print(amount.quantity, amount.unit,\":\", addrR.address)\n"
   ]
  },
  {
   "cell_type": "code",
   "execution_count": 8,
   "id": "f734f6f5",
   "metadata": {},
   "outputs": [
    {
     "name": "stdout",
     "output_type": "stream",
     "text": [
      "[Namespace(tx_hash='313d7e96841d7a7ae29dfb3f55c85847f9b3abc6ac40944c4f2c59dec17ef4b6', tx_index=0, output_index=0, amount=[Namespace(unit='lovelace', quantity='100000000')], block='364045efa5a3360d9126afe551981f97b2445ad7928684c5a3de86cec9c6523e', data_hash=None, inline_datum=None, reference_script_hash=None)]\n"
     ]
    }
   ],
   "source": [
    "# Get UTXOs\n",
    "utxos = api.address_utxos(spending_addr.encode())\n",
    "print(utxos)"
   ]
  },
  {
   "cell_type": "markdown",
   "id": "35849cbe",
   "metadata": {},
   "source": [
    "Build and sign a transaction. The Key Event is added as transaction metadata."
   ]
  },
  {
   "cell_type": "code",
   "execution_count": 26,
   "id": "d1042822",
   "metadata": {},
   "outputs": [
    {
     "name": "stdout",
     "output_type": "stream",
     "text": [
      "317b7dc3a13506ed72101f7f9d7d8f385285b51ae8d937eb3a289fd1a0a24eb6\n"
     ]
    }
   ],
   "source": [
    "builder = TransactionBuilder(context)\n",
    "builder.add_input_address(spending_addr)\n",
    "builder.add_output(TransactionOutput(spending_addr,Value.from_primitive([1000000])))\n",
    "builder.auxiliary_data = AuxiliaryData(Metadata(\n",
    "            { \n",
    "                1: {\n",
    "                    \"ked\": {\n",
    "                        \"v\": 0x786c616474676370366e754757863377833676b34326e713861377a3572,\n",
    "                        \"t\": \"icp\",\n",
    "                        \"d\": \"EJIgGbjnsAnxnfDAPmRXjs2XAZVhBpL5AKxMzTrCtkkY\",\n",
    "                        \"i\": \"EJIgGbjnsAnxnfDAPmRXjs2XAZVhBpL5AKxMzTrCtkkY\",\n",
    "                        \"s\": \"0\",\n",
    "                        \"kt\": \"1\",\n",
    "                        \"k\": [\n",
    "                            \"DPKv6TIDqfNpeJTKg1QI7Ce_lXickic_fSkunB11JZfs\"\n",
    "                        ],\n",
    "                        \"nt\": \"1\",\n",
    "                        \"n\": [\n",
    "                            \"EJYY41UY8bqhi0hjHcmyRndjtOeTETHU29SpX9uRLnbT\"\n",
    "                        ],\n",
    "                        \"bt\": \"1\",\n",
    "                        \"b\": [\n",
    "                            \"BDJ_0ChB3hmtzzuuKBowKhSj3HsVDT87dnbaYPMlYgIa\"\n",
    "                        ],\n",
    "                        \"c\": [],\n",
    "                        \"a\": []\n",
    "                    },\n",
    "                    \"signatures\": [\n",
    "                        {\n",
    "                            \"index\": 0,\n",
    "                            \"signature\": [\"AAACmhlx_wl2aNyckmgrxfQ-u19PnhTqfmaNm-1w\",\"ETxO75xtV-cxl7g07rwSd8gjcrWAd5S1DJa6vZM6zJt6Oh4P\"]\n",
    "                        }\n",
    "                    ],\n",
    "                    \"witnesses\": [\n",
    "                        \"BDJ_0ChB3hmtzzuuKBowKhSj3HsVDT87dnbaYPMlYgIa\"\n",
    "                    ],\n",
    "                    \"witness_signatures\": [\n",
    "                        {\n",
    "                            \"index\": 0,\n",
    "                            \"signature\": [\"AABkpVx4A6hlpC9LPDBHG9TLXbj86lirhD7xLt6x1\",\"xWR5cPybo4Jo7mFVapWhZMpx1ZxCgyE4A5XlJuLN3EK5TUC\"]\n",
    "                        }\n",
    "                    ],\n",
    "                    \"receipts\": {},\n",
    "                    \"timestamp\": \"2022-11-09T19:19:45.246677+00:00\"\n",
    "                }\n",
    "            }\n",
    "        )\n",
    "    )\n",
    "signed_tx = builder.build_and_sign([payment_signing_key], change_address=spending_addr)\n",
    "print(signed_tx.id)"
   ]
  },
  {
   "cell_type": "markdown",
   "id": "b8e463d6",
   "metadata": {},
   "source": [
    "Submit transaction to Cardano"
   ]
  },
  {
   "cell_type": "code",
   "execution_count": 27,
   "id": "06ec1165",
   "metadata": {},
   "outputs": [
    {
     "ename": "ApiError",
     "evalue": "{'error': 'Bad Request', 'message': '\"transaction read error RawCborDecodeError [DecoderErrorDeserialiseFailure \\\\\"Byron Tx\\\\\" (DeserialiseFailure 1 \\\\\"Size mismatch when decoding TxAux.\\\\\\\\nExpected 2, but found 4.\\\\\"),DecoderErrorDeserialiseFailure \\\\\"Shelley Tx\\\\\" (DeserialiseFailure 1 \\\\\"Size mismatch when decoding \\\\\\\\nRecord RecD.\\\\\\\\nExpected 4, but found 3.\\\\\"),DecoderErrorDeserialiseFailure \\\\\"Shelley Tx\\\\\" (DeserialiseFailure 1 \\\\\"Size mismatch when decoding \\\\\\\\nRecord RecD.\\\\\\\\nExpected 4, but found 3.\\\\\"),DecoderErrorDeserialiseFailure \\\\\"Shelley Tx\\\\\" (DeserialiseFailure 1 \\\\\"Size mismatch when decoding \\\\\\\\nRecord RecD.\\\\\\\\nExpected 4, but found 3.\\\\\"),DecoderErrorDeserialiseFailure \\\\\"Shelley Tx\\\\\" (DeserialiseFailure 328 \\\\\"An error occured while decoding metadata.\\\\\\\\nError: Unsupported CBOR token type TypeInteger\\\\\"),DecoderErrorDeserialiseFailure \\\\\"S', 'status_code': 400}",
     "output_type": "error",
     "traceback": [
      "\u001b[0;31m---------------------------------------------------------------------------\u001b[0m",
      "\u001b[0;31mApiError\u001b[0m                                  Traceback (most recent call last)",
      "Cell \u001b[0;32mIn [27], line 1\u001b[0m\n\u001b[0;32m----> 1\u001b[0m \u001b[43mcontext\u001b[49m\u001b[38;5;241;43m.\u001b[39;49m\u001b[43msubmit_tx\u001b[49m\u001b[43m(\u001b[49m\u001b[43msigned_tx\u001b[49m\u001b[38;5;241;43m.\u001b[39;49m\u001b[43mto_cbor\u001b[49m\u001b[43m(\u001b[49m\u001b[43m)\u001b[49m\u001b[43m)\u001b[49m\n",
      "File \u001b[0;32m~/.pyenv/versions/3.10.4/lib/python3.10/site-packages/pycardano/backend/blockfrost.py:207\u001b[0m, in \u001b[0;36mBlockFrostChainContext.submit_tx\u001b[0;34m(self, cbor)\u001b[0m\n\u001b[1;32m    205\u001b[0m \u001b[38;5;28;01mwith\u001b[39;00m tempfile\u001b[38;5;241m.\u001b[39mNamedTemporaryFile(delete\u001b[38;5;241m=\u001b[39m\u001b[38;5;28;01mFalse\u001b[39;00m) \u001b[38;5;28;01mas\u001b[39;00m f:\n\u001b[1;32m    206\u001b[0m     f\u001b[38;5;241m.\u001b[39mwrite(cbor)\n\u001b[0;32m--> 207\u001b[0m \u001b[38;5;28;43mself\u001b[39;49m\u001b[38;5;241;43m.\u001b[39;49m\u001b[43mapi\u001b[49m\u001b[38;5;241;43m.\u001b[39;49m\u001b[43mtransaction_submit\u001b[49m\u001b[43m(\u001b[49m\u001b[43mf\u001b[49m\u001b[38;5;241;43m.\u001b[39;49m\u001b[43mname\u001b[49m\u001b[43m)\u001b[49m\n\u001b[1;32m    208\u001b[0m os\u001b[38;5;241m.\u001b[39mremove(f\u001b[38;5;241m.\u001b[39mname)\n",
      "File \u001b[0;32m~/.pyenv/versions/3.10.4/lib/python3.10/site-packages/blockfrost/utils.py:63\u001b[0m, in \u001b[0;36mrequest_wrapper.<locals>.error_wrapper\u001b[0;34m(*args, **kwargs)\u001b[0m\n\u001b[1;32m     61\u001b[0m request_response: Response \u001b[38;5;241m=\u001b[39m func(\u001b[38;5;241m*\u001b[39margs, \u001b[38;5;241m*\u001b[39m\u001b[38;5;241m*\u001b[39mkwargs)\n\u001b[1;32m     62\u001b[0m \u001b[38;5;28;01mif\u001b[39;00m request_response\u001b[38;5;241m.\u001b[39mstatus_code \u001b[38;5;241m!=\u001b[39m \u001b[38;5;241m200\u001b[39m:\n\u001b[0;32m---> 63\u001b[0m     \u001b[38;5;28;01mraise\u001b[39;00m ApiError(request_response)\n\u001b[1;32m     64\u001b[0m \u001b[38;5;28;01melse\u001b[39;00m:\n\u001b[1;32m     65\u001b[0m     \u001b[38;5;28;01mif\u001b[39;00m \u001b[38;5;124m'\u001b[39m\u001b[38;5;124mreturn_type\u001b[39m\u001b[38;5;124m'\u001b[39m \u001b[38;5;129;01min\u001b[39;00m kwargs:\n",
      "\u001b[0;31mApiError\u001b[0m: {'error': 'Bad Request', 'message': '\"transaction read error RawCborDecodeError [DecoderErrorDeserialiseFailure \\\\\"Byron Tx\\\\\" (DeserialiseFailure 1 \\\\\"Size mismatch when decoding TxAux.\\\\\\\\nExpected 2, but found 4.\\\\\"),DecoderErrorDeserialiseFailure \\\\\"Shelley Tx\\\\\" (DeserialiseFailure 1 \\\\\"Size mismatch when decoding \\\\\\\\nRecord RecD.\\\\\\\\nExpected 4, but found 3.\\\\\"),DecoderErrorDeserialiseFailure \\\\\"Shelley Tx\\\\\" (DeserialiseFailure 1 \\\\\"Size mismatch when decoding \\\\\\\\nRecord RecD.\\\\\\\\nExpected 4, but found 3.\\\\\"),DecoderErrorDeserialiseFailure \\\\\"Shelley Tx\\\\\" (DeserialiseFailure 1 \\\\\"Size mismatch when decoding \\\\\\\\nRecord RecD.\\\\\\\\nExpected 4, but found 3.\\\\\"),DecoderErrorDeserialiseFailure \\\\\"Shelley Tx\\\\\" (DeserialiseFailure 328 \\\\\"An error occured while decoding metadata.\\\\\\\\nError: Unsupported CBOR token type TypeInteger\\\\\"),DecoderErrorDeserialiseFailure \\\\\"S', 'status_code': 400}"
     ]
    }
   ],
   "source": [
    "context.submit_tx(signed_tx.to_cbor())"
   ]
  },
  {
   "cell_type": "markdown",
   "id": "8e10334b",
   "metadata": {},
   "source": [
    "Check transaction. It may takes time to get published"
   ]
  },
  {
   "cell_type": "code",
   "execution_count": 31,
   "id": "8b16ba55",
   "metadata": {},
   "outputs": [
    {
     "name": "stdout",
     "output_type": "stream",
     "text": [
      "Namespace(hash='d3fd1fc97bf963d435186d11d411de70383fdcfed4f24856133bc43746896a9d', block='feca672e624ba0ce7bf18ce8d98b2e009fec436f89b0c34c584104e381b121dd', block_height=63003, block_time=1668028412, slot=1372412, index=0, output_amount=[Namespace(unit='lovelace', quantity='99801279')], fees='198721', deposit='0', size=984, invalid_before=None, invalid_hereafter=None, utxo_count=3, withdrawal_count=0, mir_cert_count=0, delegation_count=0, stake_cert_count=0, pool_update_count=0, pool_retire_count=0, asset_mint_or_burn_count=0, redeemer_count=0, valid_contract=True)\n"
     ]
    }
   ],
   "source": [
    "tx = api.transaction(signed_tx.id)\n",
    "print(tx)"
   ]
  },
  {
   "cell_type": "code",
   "execution_count": 32,
   "id": "bb81f891",
   "metadata": {},
   "outputs": [
    {
     "name": "stdout",
     "output_type": "stream",
     "text": [
      "[Namespace(label='1', json_metadata=Namespace(ked=Namespace(a=[], b=['BDJ_0ChB3hmtzzuuKBowKhSj3HsVDT87dnbaYPMlYgIa'], c=[], d='EJIgGbjnsAnxnfDAPmRXjs2XAZVhBpL5AKxMzTrCtkkY', i='EJIgGbjnsAnxnfDAPmRXjs2XAZVhBpL5AKxMzTrCtkkY', k=['DPKv6TIDqfNpeJTKg1QI7Ce_lXickic_fSkunB11JZfs'], n=['EJYY41UY8bqhi0hjHcmyRndjtOeTETHU29SpX9uRLnbT'], s='0', t='icp', v='KERI10JSON000159_', bt='1', kt='1', nt='1'), receipts=Namespace(), timestamp='2022-11-09T19:19:45.246677+00:00', witnesses=['BDJ_0ChB3hmtzzuuKBowKhSj3HsVDT87dnbaYPMlYgIa'], signatures=[Namespace(index=0, signature=['AAACmhlx_wl2aNyckmgrxfQ-u19PnhTqfmaNm-1w', 'ETxO75xtV-cxl7g07rwSd8gjcrWAd5S1DJa6vZM6zJt6Oh4P'])], witness_signatures=[Namespace(index=0, signature=['AABkpVx4A6hlpC9LPDBHG9TLXbj86lirhD7xLt6x1', 'xWR5cPybo4Jo7mFVapWhZMpx1ZxCgyE4A5XlJuLN3EK5TUC'])]))]\n"
     ]
    }
   ],
   "source": [
    "metadata = api.transaction_metadata(signed_tx.id)\n",
    "print(metadata)"
   ]
  },
  {
   "cell_type": "markdown",
   "id": "76c43845",
   "metadata": {},
   "source": [
    "The Backer should submit transactions any time it receives a Key Event.\n",
    "The Watcher can retrieve the full KEL from Cardano blockchain as follows:"
   ]
  },
  {
   "cell_type": "code",
   "execution_count": 6,
   "id": "21784bd4",
   "metadata": {},
   "outputs": [
    {
     "name": "stdout",
     "output_type": "stream",
     "text": [
      "0 : {'label': '0', 'json_metadata': Namespace(ked=Namespace(a=[], b=['BK9KEdwXuBfnHe2QKJu1hryM7dg9A7EIbDbvwjoN0ChR'], c=[], d='EIfGM24B_KAMcBTeR1vkhTjQtnNWgHoaZY5j3TNyiZ_4', i='EIfGM24B_KAMcBTeR1vkhTjQtnNWgHoaZY5j3TNyiZ_4', k=['DMWFKggdP227rz3SX_p5nWDTw4TmTlvpw-Uv-J207EZ6'], n=['EEBP5Sucqims_QRC3mB6BC0gJdRwPjAeNsma9ltp2yh0'], s='0', t='icp', v='KERI10JSON000159_', bt='1', kt='1', nt='1'), witnesses=['BK9KEdwXuBfnHe2QKJu1hryM7dg9A7EIbDbvwjoN0ChR'], signatures=[['AACPR1PgzGsLL5oQ0idVPjh9aALSw_3nRE591PjuaWEz', '-HY0q0vqAy5ZSgUxZzqoDygK94nwpLs9EDjDphoLpzQM']], witness_signatures=[['AACFmKJKG4WGO8bW_MAX4rJ1BuGNZfGgPx3w-vajRkgC', 'd4Ckfnm7D4uqOn8qZg5OYzZk4oYTyzlK7SHlJtAMFHMJ']])}\n",
      "1 : {'label': '1', 'json_metadata': Namespace(ked=Namespace(a=[Namespace(blah='blah')], d='EAH27bQ2rqUCGQZv1BqmLknHq3xXrRmO_h_jdAk4bqmj', i='EIfGM24B_KAMcBTeR1vkhTjQtnNWgHoaZY5j3TNyiZ_4', p='EIfGM24B_KAMcBTeR1vkhTjQtnNWgHoaZY5j3TNyiZ_4', s='1', t='ixn', v='KERI10JSON0000da_'), witnesses=[], signatures=[['AABJNkXVpsg14AyJt1A3rFtd15X5LjfjQQ8i_2vjcEv5', '778nz0Csh7Mv3rV_93uKkB9wc48MaeMZtVe5LYc8pekG']], witness_signatures=[['AAC9dvTgY1eftcMrIzycK02OJngGpGDfoa6GacDqmSoz', 'Ibbl-AQNfrqQLmxoTqkf6PR46uyTe4CUoA6KEY_640cB']])}\n",
      "0 : {'label': '0', 'json_metadata': Namespace(ked=Namespace(a=[], b=['BJwydg0IcPEznOe7vdS2hDU8g7s-gusj48xJN2k3sKKU'], c=[], d='EES09MYP9u4WWKJGZZzbwWcoKvj-5Wme58V1np52nLEp', i='EES09MYP9u4WWKJGZZzbwWcoKvj-5Wme58V1np52nLEp', k=['DFFaje1Y03iYfirYqS2u9dluX0exQYW6xLkavouq3rP4'], n=['EISektKuG8bE_E7jp_y8HyFMfkw0j-daV9jnKI9a80Vf'], s='0', t='icp', v='KERI10JSON000159_', bt='1', kt='1', nt='1'), witnesses=['BJwydg0IcPEznOe7vdS2hDU8g7s-gusj48xJN2k3sKKU'], signatures=[['AACyTjvZhwWd5MF878ZHDRDh-mJ3X2dzqA8sLsZ4qsnY', 'ke-MKrbgesB-ItapApRbnmLk7LQOFu9J8Dg5n1dijbMI']], witness_signatures=[['AACEYA-qSOel_vMq_mwi32D6YFkWd11aSFFu7fFl0Lp2', '6jMZ8bC5WHpAi9cPGfKich7rWm4kYuAi8Hmx29t_Z50L']])}\n",
      "0 : {'label': '0', 'json_metadata': Namespace(ked=Namespace(a=[], b=['BEQlbp7ELCxNHivxYW40TwBS6atPq8YVsEZgwVEyDl5D'], c=[], d='EDL6d6U6a1ZkXZUcjlZpxDzmdAiedHaql9uwjKK3mj1K', i='EDL6d6U6a1ZkXZUcjlZpxDzmdAiedHaql9uwjKK3mj1K', k=['DFHDDoZYGcnl9h7xUKgL7DOgr5rD4unGxWDlVOZRnRWm'], n=['EOzp9y9XSr4XEwF_lmH5nDqxRG9KLVhHu10ExCLOs9Ku'], s='0', t='icp', v='KERI10JSON000159_', bt='1', kt='1', nt='1'), witnesses=['BEQlbp7ELCxNHivxYW40TwBS6atPq8YVsEZgwVEyDl5D'], signatures=[['AACi8C0iyZgZOVHUlrULBfIy5zWuO7nMu_yIZy8Twc2u', 'iK1Xdj2tUjb8uVFQ6UuyRueO5_aOv4EYX3NEO3kmtMQB']], witness_signatures=[['AADxRSvKVijNn2Jl0ebBlHbadJ5fOkEnMCNkZxa8772i', 'shvAnSg68k2Dpd-jscO1Jwk1tYE0jskkgDgoqH1NjWAB']])}\n",
      "1 : {'label': '1', 'json_metadata': Namespace(ked=Namespace(a=[Namespace(blah='blah')], d='EPpChMODktVjz55UEcHBaEhzVzejRrKCMSNX1Gm_1sZl', i='EDL6d6U6a1ZkXZUcjlZpxDzmdAiedHaql9uwjKK3mj1K', p='EDL6d6U6a1ZkXZUcjlZpxDzmdAiedHaql9uwjKK3mj1K', s='1', t='ixn', v='KERI10JSON0000da_'), witnesses=[], signatures=[['AAA-NAV2BOM-GGGxQlqInCcxfRQm35QW4EZJgD7tBwIR', 'bDUETiCTiYdrSBCFBIhMByH2QN75zfIU4VLb21vUCL8F']], witness_signatures=[['AADfA9O_BFAy2PEkkY6Sz-Ko-eJMsmPBT-1wlJCPjqJS', 'yQ7_PIdhQjkQIsLAAhDG1zIDPuldE78cHi_2fOE9CrAN']])}\n"
     ]
    }
   ],
   "source": [
    "txs = api.address_transactions(\"addr_test1qp6fllu9amjkf835vrva4hg6m6puptgcp6nuvkjqj2s43v4auyjzn8g79sl6pxk0sh9te9nxq4h2tsh4uxc7x3gk42nq8a7z5r\")\n",
    "for tx in txs:\n",
    "    m = api.transaction_metadata(tx.tx_hash)\n",
    "    if m: print(m[0].label,\":\",vars(m[0]))"
   ]
  },
  {
   "cell_type": "code",
   "execution_count": 5,
   "id": "27856cdb",
   "metadata": {},
   "outputs": [
    {
     "name": "stdout",
     "output_type": "stream",
     "text": [
      "{'label': '1', 'json_metadata': Namespace(ked=Namespace(a=[Namespace(blah='blah')], d='EPpChMODktVjz55UEcHBaEhzVzejRrKCMSNX1Gm_1sZl', i='EDL6d6U6a1ZkXZUcjlZpxDzmdAiedHaql9uwjKK3mj1K', p='EDL6d6U6a1ZkXZUcjlZpxDzmdAiedHaql9uwjKK3mj1K', s='1', t='ixn', v='KERI10JSON0000da_'), witnesses=[], signatures=[['AAA-NAV2BOM-GGGxQlqInCcxfRQm35QW4EZJgD7tBwIR', 'bDUETiCTiYdrSBCFBIhMByH2QN75zfIU4VLb21vUCL8F']], witness_signatures=[['AADfA9O_BFAy2PEkkY6Sz-Ko-eJMsmPBT-1wlJCPjqJS', 'yQ7_PIdhQjkQIsLAAhDG1zIDPuldE78cHi_2fOE9CrAN']])}\n"
     ]
    }
   ],
   "source": [
    "print(vars(m[0]))"
   ]
  },
  {
   "cell_type": "code",
   "execution_count": 29,
   "id": "b1564429",
   "metadata": {},
   "outputs": [],
   "source": [
    "try:\n",
    "    payment_signing_key = PaymentSigningKey.load(\"payment.skey\")\n",
    "except:\n",
    "    print(\"coud]ndt load\")"
   ]
  },
  {
   "cell_type": "code",
   "execution_count": 19,
   "id": "de0cb001",
   "metadata": {},
   "outputs": [],
   "source": [
    "ke = {'ked': {'v': 'KERI10JSON000159_', 't': 'icp', 'd': 'EJIgGbjnsAnxnfDAPmRXjs2XAZVhBpL5AKxMzTrCtkkY', 'i': 'EJIgGbjnsAnxnfDAPmRXjs2XAZVhBpL5AKxMzTrCtkkY', 's': '0', 'kt': '1', 'k': ['DPKv6TIDqfNpeJTKg1QI7Ce_lXickic_fSkunB11JZfs'], 'nt': '1', 'n': ['EJYY41UY8bqhi0hjHcmyRndjtOeTETHU29SpX9uRLnbT'], 'bt': '1', 'b': ['BDJ_0ChB3hmtzzuuKBowKhSj3HsVDT87dnbaYPMlYgIa'], 'c': [], 'a': []}, 'stored': True, 'signatures': [{'index': 0, 'signature': 'AAACmhlx_wl2aNyckmgrxfQ-u19PnhTqfmaNm-1wETxO75xtV-cxl7g07rwSd8gjcrWAd5S1DJa6vZM6zJt6Oh4P'}], 'witnesses': ['BDJ_0ChB3hmtzzuuKBowKhSj3HsVDT87dnbaYPMlYgIa'], 'witness_signatures': [{'index': 0, 'signature': 'AABkpVx4A6hlpC9LPDBHG9TLXbj86lirhD7xLt6x1xWR5cPybo4Jo7mFVapWhZMpx1ZxCgyE4A5XlJuLN3EK5TUC'}], 'receipts': {}, 'timestamp': '2022-11-09T19:19:45.246677+00:00'}"
   ]
  },
  {
   "cell_type": "code",
   "execution_count": 22,
   "id": "ad6483de",
   "metadata": {},
   "outputs": [
    {
     "name": "stdout",
     "output_type": "stream",
     "text": [
      "{\n",
      "    \"ked\": {\n",
      "        \"v\": \"KERI10JSON000159_\",\n",
      "        \"t\": \"icp\",\n",
      "        \"d\": \"EJIgGbjnsAnxnfDAPmRXjs2XAZVhBpL5AKxMzTrCtkkY\",\n",
      "        \"i\": \"EJIgGbjnsAnxnfDAPmRXjs2XAZVhBpL5AKxMzTrCtkkY\",\n",
      "        \"s\": \"0\",\n",
      "        \"kt\": \"1\",\n",
      "        \"k\": [\n",
      "            \"DPKv6TIDqfNpeJTKg1QI7Ce_lXickic_fSkunB11JZfs\"\n",
      "        ],\n",
      "        \"nt\": \"1\",\n",
      "        \"n\": [\n",
      "            \"EJYY41UY8bqhi0hjHcmyRndjtOeTETHU29SpX9uRLnbT\"\n",
      "        ],\n",
      "        \"bt\": \"1\",\n",
      "        \"b\": [\n",
      "            \"BDJ_0ChB3hmtzzuuKBowKhSj3HsVDT87dnbaYPMlYgIa\"\n",
      "        ],\n",
      "        \"c\": [],\n",
      "        \"a\": []\n",
      "    },\n",
      "    \"stored\": true,\n",
      "    \"signatures\": [\n",
      "        {\n",
      "            \"index\": 0,\n",
      "            \"signature\": \"AAACmhlx_wl2aNyckmgrxfQ-u19PnhTqfmaNm-1wETxO75xtV-cxl7g07rwSd8gjcrWAd5S1DJa6vZM6zJt6Oh4P\"\n",
      "        }\n",
      "    ],\n",
      "    \"witnesses\": [\n",
      "        \"BDJ_0ChB3hmtzzuuKBowKhSj3HsVDT87dnbaYPMlYgIa\"\n",
      "    ],\n",
      "    \"witness_signatures\": [\n",
      "        {\n",
      "            \"index\": 0,\n",
      "            \"signature\": \"AABkpVx4A6hlpC9LPDBHG9TLXbj86lirhD7xLt6x1xWR5cPybo4Jo7mFVapWhZMpx1ZxCgyE4A5XlJuLN3EK5TUC\"\n",
      "        }\n",
      "    ],\n",
      "    \"receipts\": {},\n",
      "    \"timestamp\": \"2022-11-09T19:19:45.246677+00:00\"\n",
      "}\n"
     ]
    }
   ],
   "source": [
    "print(json.dumps(ke, indent=4))"
   ]
  },
  {
   "cell_type": "code",
   "execution_count": 56,
   "id": "d22e4ed3",
   "metadata": {},
   "outputs": [],
   "source": [
    "for wsig in ke['witness_signatures']:\n",
    "    ke['witness_signatures'][wsig['index']] = [wsig['signature'][:44],wsig['signature'][44:]]"
   ]
  },
  {
   "cell_type": "code",
   "execution_count": null,
   "id": "ad3f4acb",
   "metadata": {},
   "outputs": [],
   "source": [
    "for sig in ke['signatures']:\n",
    "    ke['signatures'][sig['index']] = [sig['signature'][:44],sig['signature'][44:]]"
   ]
  },
  {
   "cell_type": "code",
   "execution_count": 57,
   "id": "0071dba3",
   "metadata": {},
   "outputs": [
    {
     "name": "stdout",
     "output_type": "stream",
     "text": [
      "{\n",
      "    \"ked\": {\n",
      "        \"v\": \"KERI10JSON000159_\",\n",
      "        \"t\": \"icp\",\n",
      "        \"d\": \"EJIgGbjnsAnxnfDAPmRXjs2XAZVhBpL5AKxMzTrCtkkY\",\n",
      "        \"i\": \"EJIgGbjnsAnxnfDAPmRXjs2XAZVhBpL5AKxMzTrCtkkY\",\n",
      "        \"s\": \"0\",\n",
      "        \"kt\": \"1\",\n",
      "        \"k\": [\n",
      "            \"DPKv6TIDqfNpeJTKg1QI7Ce_lXickic_fSkunB11JZfs\"\n",
      "        ],\n",
      "        \"nt\": \"1\",\n",
      "        \"n\": [\n",
      "            \"EJYY41UY8bqhi0hjHcmyRndjtOeTETHU29SpX9uRLnbT\"\n",
      "        ],\n",
      "        \"bt\": \"1\",\n",
      "        \"b\": [\n",
      "            \"BDJ_0ChB3hmtzzuuKBowKhSj3HsVDT87dnbaYPMlYgIa\"\n",
      "        ],\n",
      "        \"c\": [],\n",
      "        \"a\": []\n",
      "    },\n",
      "    \"stored\": true,\n",
      "    \"signatures\": [\n",
      "        [\n",
      "            \"AAACmhlx_wl2aNyckmgrxfQ-u19PnhTqfmaNm-1wETxO\",\n",
      "            \"75xtV-cxl7g07rwSd8gjcrWAd5S1DJa6vZM6zJt6Oh4P\"\n",
      "        ]\n",
      "    ],\n",
      "    \"witnesses\": [\n",
      "        \"BDJ_0ChB3hmtzzuuKBowKhSj3HsVDT87dnbaYPMlYgIa\"\n",
      "    ],\n",
      "    \"witness_signatures\": [\n",
      "        [\n",
      "            \"AABkpVx4A6hlpC9LPDBHG9TLXbj86lirhD7xLt6x1xWR\",\n",
      "            \"5cPybo4Jo7mFVapWhZMpx1ZxCgyE4A5XlJuLN3EK5TUC\"\n",
      "        ]\n",
      "    ],\n",
      "    \"receipts\": {},\n",
      "    \"timestamp\": \"2022-11-09T19:19:45.246677+00:00\"\n",
      "}\n"
     ]
    }
   ],
   "source": [
    "print(json.dumps(ke, indent=4))"
   ]
  },
  {
   "cell_type": "code",
   "execution_count": 21,
   "id": "ae645bce",
   "metadata": {},
   "outputs": [
    {
     "name": "stdout",
     "output_type": "stream",
     "text": [
      "786c616464725f7465737431717036666c6c7539616d6a6b6638333576727661346867366d3670757074676370366e75766b6a716a3273343376346175796a7a6e38673739736c3670786b307368397465396e787134683274736834757863377833676b34326e713861377a3572\n"
     ]
    }
   ],
   "source": [
    "data = dumps(\"addr_test1qp6fllu9amjkf835vrva4hg6m6puptgcp6nuvkjqj2s43v4auyjzn8g79sl6pxk0sh9te9nxq4h2tsh4uxc7x3gk42nq8a7z5r\")\n",
    "print(data.hex())"
   ]
  },
  {
   "cell_type": "code",
   "execution_count": 60,
   "id": "63476c30",
   "metadata": {},
   "outputs": [],
   "source": [
    "utxos = api.address_utxos(\"addr_test1qpyex2dhz597lflafzhusp0t695602flrntxydz3ww5sru4lakj244r7yjsvdwp6pd0hr70vuzkur0a5rtuj6srufa9qz76fy0\")"
   ]
  },
  {
   "cell_type": "code",
   "execution_count": 61,
   "id": "0ba3aa3b",
   "metadata": {},
   "outputs": [
    {
     "name": "stdout",
     "output_type": "stream",
     "text": [
      "Namespace(tx_hash='fbba949dce28e3a7d68a6ccfe4b09507edf0ce23e5a706ed6750a42feafa1298', tx_index=0, output_index=0, amount=[Namespace(unit='lovelace', quantity='100000000')], block='ba82d6cecdb1ae379ef72c31e12a29c8893cbe98b95895ba94c2c05ec0f05843', data_hash=None, inline_datum=None, reference_script_hash=None)\n",
      "100000000\n"
     ]
    }
   ],
   "source": [
    "utxo_sum = 0\n",
    "for u in utxos:\n",
    "    print(u)\n",
    "    utxo_sum = utxo_sum + int(u.amount[0].quantity)\n",
    "    print(u.amount[0].quantity)\n",
    "    if utxo_sum > 1000000: break"
   ]
  },
  {
   "cell_type": "code",
   "execution_count": null,
   "id": "c95a2177",
   "metadata": {},
   "outputs": [],
   "source": []
  },
  {
   "cell_type": "code",
   "execution_count": null,
   "id": "9bac3b09",
   "metadata": {},
   "outputs": [],
   "source": []
  },
  {
   "cell_type": "code",
   "execution_count": 4,
   "id": "1c7bad1d",
   "metadata": {},
   "outputs": [],
   "source": [
    "payment_key_pair = PaymentKeyPair.generate()\n",
    "payment_signing_key = payment_key_pair.signing_key\n",
    "payment_verification_key = payment_key_pair.verification_key\n",
    "\n",
    "stake_key_pair = StakeKeyPair.generate()\n",
    "stake_signing_key = stake_key_pair.signing_key\n",
    "stake_verification_key = stake_key_pair.verification_key"
   ]
  },
  {
   "cell_type": "code",
   "execution_count": 8,
   "id": "188aabd5",
   "metadata": {},
   "outputs": [
    {
     "name": "stdout",
     "output_type": "stream",
     "text": [
      "{\"type\": \"PaymentSigningKeyShelley_ed25519\", \"description\": \"PaymentSigningKeyShelley_ed25519\", \"cborHex\": \"58201938167e7c022f8e7e3b96ff88033816e50b03bb0573045f75844ea1b41dfb19\"}\n",
      "{\"type\": \"PaymentVerificationKeyShelley_ed25519\", \"description\": \"PaymentVerificationKeyShelley_ed25519\", \"cborHex\": \"5820e3bfb4c228ed37822c694da36b53721bb9eb82cb106fe20d4adb593334112a86\"}\n"
     ]
    }
   ],
   "source": [
    "print(payment_key_pair.signing_key)\n",
    "print(payment_key_pair.verification_key)"
   ]
  },
  {
   "cell_type": "code",
   "execution_count": 10,
   "id": "3f80d1ef",
   "metadata": {},
   "outputs": [
    {
     "name": "stdout",
     "output_type": "stream",
     "text": [
      "Stake address: stake_test1up4wmlz82984zmpdr52ke3a45fdsp38n97nactlgqpdm60sjhcfmm\n",
      "Spending Address: addr_test1qp4x53gvwd6d8tw373xapt63ehrdxnp766r90y4s06fmx5m2dfzscum56wkarazd6zh4rnwx6dxra45x27ftql5nkdfszjq5gl\n"
     ]
    }
   ],
   "source": [
    "spending_addr = Address(payment_verification_key.hash(), payment_verification_key.hash(), network=network)\n",
    "stake_addr = Address(payment_part=None, staking_part=stake_verification_key.hash(), network=network)\n",
    "print(\"Stake address:\", stake_addr.encode())\n",
    "print(\"Spending Address:\", spending_addr.encode())"
   ]
  },
  {
   "cell_type": "code",
   "execution_count": 11,
   "id": "2409c516",
   "metadata": {},
   "outputs": [
    {
     "name": "stdout",
     "output_type": "stream",
     "text": [
      "6a6a450c7374d3add1f44dd0af51cdc6d34c3ed6865792b07e93b353\n"
     ]
    }
   ],
   "source": [
    "print(payment_verification_key.hash())"
   ]
  },
  {
   "cell_type": "code",
   "execution_count": null,
   "id": "879b9087",
   "metadata": {},
   "outputs": [],
   "source": []
  }
 ],
 "metadata": {
  "kernelspec": {
   "display_name": "Python 3 (ipykernel)",
   "language": "python",
   "name": "python3"
  },
  "language_info": {
   "codemirror_mode": {
    "name": "ipython",
    "version": 3
   },
   "file_extension": ".py",
   "mimetype": "text/x-python",
   "name": "python",
   "nbconvert_exporter": "python",
   "pygments_lexer": "ipython3",
   "version": "3.10.4"
  },
  "vscode": {
   "interpreter": {
    "hash": "657457231345a1573390f5ba8c93db47783ada1b282114062903863290ed8fb1"
   }
  }
 },
 "nbformat": 4,
 "nbformat_minor": 5
}
