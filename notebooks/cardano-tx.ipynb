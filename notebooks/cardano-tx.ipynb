{
 "cells": [
  {
   "cell_type": "markdown",
   "id": "61c5438c",
   "metadata": {},
   "source": [
    "### This Notebook shows how a **Backer** can writte KERI Key Events to Cardano blockchain and how a **Watcher** can retrieve the full Key Event Log (KEL) from the blockchain.\n",
    "This code use Blockfrost API to intercat with Cardano Nodes"
   ]
  },
  {
   "cell_type": "code",
   "execution_count": null,
   "id": "31d3ab42",
   "metadata": {},
   "outputs": [],
   "source": [
    "from blockfrost import BlockFrostApi, ApiError, ApiUrls\n",
    "from pycardano import * \n",
    "import os"
   ]
  },
  {
   "cell_type": "markdown",
   "id": "cbf68285",
   "metadata": {},
   "source": [
    "First create a ProjectId in https://blockfrost.io for the network of your choice. In this case we are using the _Preview_ network.\n",
    "Put your projectId in an evironmental variable or paste it in the code bellow."
   ]
  },
  {
   "cell_type": "code",
   "execution_count": 309,
   "id": "5ef4ad41",
   "metadata": {},
   "outputs": [],
   "source": [
    "blockfrostProjectId = os.getenv('BLOCKFROST_PROJECT_ID')\n",
    "blockfrostProjectId=\"previewapifaDDKsMZE7asmrcG8W3zbRE1pojXY\"\n",
    "api = BlockFrostApi(\n",
    "    project_id=blockfrostProjectId,\n",
    "    base_url=ApiUrls.preview.value\n",
    ")\n",
    "network = Network.TESTNET\n",
    "context = BlockFrostChainContext(blockfrostProjectId,network, ApiUrls.preview.value)"
   ]
  },
  {
   "cell_type": "markdown",
   "id": "d734967b",
   "metadata": {},
   "source": [
    "Generate payment and stake key pairs. You can Save and Load on this disk."
   ]
  },
  {
   "cell_type": "code",
   "execution_count": null,
   "id": "fc6398ef",
   "metadata": {},
   "outputs": [],
   "source": [
    "payment_key_pair = PaymentKeyPair.generate()\n",
    "payment_signing_key = payment_key_pair.signing_key\n",
    "payment_verification_key = payment_key_pair.verification_key\n",
    "\n",
    "stake_key_pair = StakeKeyPair.generate()\n",
    "stake_signing_key = stake_key_pair.signing_key\n",
    "stake_verification_key = stake_key_pair.verification_key"
   ]
  },
  {
   "cell_type": "code",
   "execution_count": 298,
   "id": "b5aca702",
   "metadata": {},
   "outputs": [],
   "source": [
    "# Save keys\n",
    "payment_signing_key.save(\"payment.skey\")\n",
    "payment_verification_key.save(\"payment.vkey\")\n",
    "stake_signing_key.save(\"stake.skey\")\n",
    "stake_verification_key.save(\"stake.vkey\")"
   ]
  },
  {
   "cell_type": "code",
   "execution_count": null,
   "id": "072ac5b3",
   "metadata": {},
   "outputs": [],
   "source": [
    "# Load keys\n",
    "payment_signing_key = PaymentSigningKey.load(\"payment.skey\")\n",
    "payment_verification_key = PaymentVerificationKey.load(\"payment.vkey\")\n",
    "stake_signing_key = StakeSigningKey.load(\"stake.skey\")\n",
    "stake_verification_key = StakeVerificationKey.load(\"stake.vkey\")"
   ]
  },
  {
   "cell_type": "markdown",
   "id": "6117da3a",
   "metadata": {},
   "source": [
    "Generate the Stake Address and the Spending Address that the Backer will use to submit transactions with metadata to Cardano.\n",
    "You can fund the Spending Address with test ADA at https://docs.cardano.org/cardano-testnet/tools/faucet\""
   ]
  },
  {
   "cell_type": "code",
   "execution_count": 316,
   "id": "edec835f",
   "metadata": {},
   "outputs": [
    {
     "name": "stdout",
     "output_type": "stream",
     "text": [
      "Stake address: stake_test1ur3vs3x0xl97tt2gau5wknmxve0jlmsqn2l2dqrrt40tgzsmhat72\n",
      "Spending Address: addr_test1qrtvrpe58csevt7esxqjv4rpvm5q30paghtlse2pj3xn8g0zepzv7d7tukk53megad8kvejl9lhqpx4756qxxh27ks9qqxkex3\n",
      "Fund address above in https://docs.cardano.org/cardano-testnet/tools/faucet\n"
     ]
    }
   ],
   "source": [
    "spending_addr = Address(payment_verification_key.hash(), stake_verification_key.hash(), network=network)\n",
    "stake_addr = Address(payment_part=None, staking_part=stake_verification_key.hash(), network=network)\n",
    "print(\"Stake address:\", stake_addr.encode())\n",
    "print(\"Spending Address:\", spending_addr.encode())"
   ]
  },
  {
   "cell_type": "markdown",
   "id": "0b40df8c",
   "metadata": {},
   "source": [
    "Using Blockfrost API you can query ADA balances and UTXOs"
   ]
  },
  {
   "cell_type": "code",
   "execution_count": 357,
   "id": "dbd17a40",
   "metadata": {},
   "outputs": [
    {
     "name": "stdout",
     "output_type": "stream",
     "text": [
      "99319472 lovelace\n"
     ]
    }
   ],
   "source": [
    "# Check address balance\n",
    "address = api.address(\n",
    "        address=spending_addr.encode())\n",
    "for amount in address.amount:\n",
    "    print(amount.quantity, amount.unit)"
   ]
  },
  {
   "cell_type": "code",
   "execution_count": 362,
   "id": "e510c810",
   "metadata": {},
   "outputs": [
    {
     "name": "stdout",
     "output_type": "stream",
     "text": [
      "99319472 lovelace : addr_test1qrtvrpe58csevt7esxqjv4rpvm5q30paghtlse2pj3xn8g0zepzv7d7tukk53megad8kvejl9lhqpx4756qxxh27ks9qqxkex3\n"
     ]
    }
   ],
   "source": [
    "# Check wallet balance\n",
    "addresses = api.account_addresses(stake_addr.encode())\n",
    "for addr in addresses:\n",
    "    addrR = api.address(addr.address)\n",
    "    for amount in addrR.amount:\n",
    "        print(amount.quantity, amount.unit,\":\", addrR.address)\n"
   ]
  },
  {
   "cell_type": "code",
   "execution_count": 365,
   "id": "f734f6f5",
   "metadata": {},
   "outputs": [
    {
     "name": "stdout",
     "output_type": "stream",
     "text": [
      "[Namespace(tx_hash='31f1980ab3a9ac0aca5ad687ffcc0f8ff9e84d6ae02b111500adc7344cf11a5a', tx_index=0, output_index=0, amount=[Namespace(unit='lovelace', quantity='1000000')], block='80468a6dcb2ce937ac6b319e4203037d8ceb34a619c4db104441651137c34be2', data_hash=None, inline_datum=None, reference_script_hash=None), Namespace(tx_hash='6428ac788501671e81fc2c6427e256d9360bdc3400febbef1d61baa06fe2528d', tx_index=0, output_index=0, amount=[Namespace(unit='lovelace', quantity='1000000')], block='63d852fca752fa86afbe400728a85e577057d8673eb016124a2fb911cc3b8f35', data_hash=None, inline_datum=None, reference_script_hash=None), Namespace(tx_hash='6428ac788501671e81fc2c6427e256d9360bdc3400febbef1d61baa06fe2528d', tx_index=1, output_index=1, amount=[Namespace(unit='lovelace', quantity='97319472')], block='63d852fca752fa86afbe400728a85e577057d8673eb016124a2fb911cc3b8f35', data_hash=None, inline_datum=None, reference_script_hash=None)]\n"
     ]
    }
   ],
   "source": [
    "# Get UTXOs\n",
    "utxos = api.address_utxos(spending_addr.encode())\n",
    "print(utxos)"
   ]
  },
  {
   "cell_type": "markdown",
   "id": "35849cbe",
   "metadata": {},
   "source": [
    "Build and sign a transaction. The Key Event is added as transaction metadata."
   ]
  },
  {
   "cell_type": "code",
   "execution_count": 377,
   "id": "d1042822",
   "metadata": {},
   "outputs": [
    {
     "name": "stdout",
     "output_type": "stream",
     "text": [
      "e58c55a566b3665fa98af0888ed2544d082ea3d5ea6724c6fba231a731fbe86f\n"
     ]
    }
   ],
   "source": [
    "#Build and Sign transaction\n",
    "builder = TransactionBuilder(context)\n",
    "builder.add_input_address(spending_addr)\n",
    "builder.add_output(TransactionOutput(spending_addr,Value.from_primitive([1000000])))\n",
    "builder.auxiliary_data = AuxiliaryData(Metadata(\n",
    "            { \n",
    "                1: {\n",
    "                    \"v\": \"KERI10JSON000159_\",\n",
    "                    \"t\": \"icp\",\n",
    "                    \"d\": \"EDRc4HIqxKvCeafMxSMJM2tuQfkERkgtzUAAVLdk-bhj\",\n",
    "                    \"i\": \"EDRc4HIqxKvCeafMxSMJM2tuQfkERkgtzUAAVLdk-bhj\",\n",
    "                    \"s\": \"0\",\n",
    "                    \"kt\": \"1\",\n",
    "                    \"k\": [\n",
    "                    \"DNnrwNUFl070TGU8wlYSZZ0WZ-V5WbDqXnBv-HkXjQ4x\"\n",
    "                    ],\n",
    "                    \"nt\": \"1\",\n",
    "                    \"n\": [\n",
    "                    \"EJ2BHzcravgL1BfgEbNo8V181WNvKprybAkae4QSLaG1\"\n",
    "                    ],\n",
    "                    \"bt\": \"1\",\n",
    "                    \"b\": [\n",
    "                    \"BBilc4-L3tFUnfM_wJr4S4OJanAv_VmF_dJNN6vkf2Ha\"\n",
    "                    ],\n",
    "                    \"c\": [],\n",
    "                    \"a\": []\n",
    "                }\n",
    "            }\n",
    "        )\n",
    "    )\n",
    "signed_tx = builder.build_and_sign([payment_signing_key], change_address=spending_addr)\n",
    "print(signed_tx.id)"
   ]
  },
  {
   "cell_type": "code",
   "execution_count": 367,
   "id": "06ec1165",
   "metadata": {},
   "outputs": [],
   "source": [
    "#Submit transaction\n",
    "context.submit_tx(signed_tx.to_cbor())"
   ]
  },
  {
   "cell_type": "code",
   "execution_count": 375,
   "id": "8b16ba55",
   "metadata": {},
   "outputs": [
    {
     "name": "stdout",
     "output_type": "stream",
     "text": [
      "Namespace(hash='e4db3f05bc35d6245d10f9ca943d9041c5e440b31105cee9caee5c2d3d06fa3e', block='6d31e7bbddb12a7298e0333f998ae4ac561d5ff4f8814dd23e195ee4e289e174', block_height=303965, block_time=1666575275, slot=6572075, index=0, output_amount=[Namespace(unit='lovelace', quantity='97149703')], fees='169769', deposit='0', size=326, invalid_before=None, invalid_hereafter=None, utxo_count=3, withdrawal_count=0, mir_cert_count=0, delegation_count=0, stake_cert_count=0, pool_update_count=0, pool_retire_count=0, asset_mint_or_burn_count=0, redeemer_count=0, valid_contract=True)\n"
     ]
    }
   ],
   "source": [
    "#Check transaction (need time to be published)\n",
    "tx = api.transaction(signed_tx.id)\n",
    "print(tx)"
   ]
  },
  {
   "cell_type": "code",
   "execution_count": 340,
   "id": "bb81f891",
   "metadata": {},
   "outputs": [
    {
     "name": "stdout",
     "output_type": "stream",
     "text": [
      "[Namespace(label='221', json_metadata=Namespace(KEL='1'))]\n"
     ]
    }
   ],
   "source": [
    "#Checl transaction metadata\n",
    "metadata = api.transaction_metadata(signed_tx.id)\n",
    "print(metadata)"
   ]
  },
  {
   "cell_type": "code",
   "execution_count": 376,
   "id": "21784bd4",
   "metadata": {},
   "outputs": [
    {
     "name": "stdout",
     "output_type": "stream",
     "text": [
      "[]\n",
      "[]\n",
      "[Namespace(label='221', json_metadata=Namespace(bla='bla'))]\n",
      "[Namespace(label='221', json_metadata=Namespace(KEL='1'))]\n",
      "[Namespace(label='2', json_metadata=Namespace(KEL='2'))]\n",
      "[Namespace(label='3', json_metadata=Namespace(KEL='3'))]\n"
     ]
    }
   ],
   "source": [
    "# Get all metadata from the address\n",
    "txs = api.address_transactions(spending_addr.encode())\n",
    "for tx in txs:\n",
    "    print(api.transaction_metadata(tx.tx_hash))"
   ]
  }
 ],
 "metadata": {
  "kernelspec": {
   "display_name": "Python 3.10.4 64-bit ('3.10.4')",
   "language": "python",
   "name": "python3"
  },
  "language_info": {
   "codemirror_mode": {
    "name": "ipython",
    "version": 3
   },
   "file_extension": ".py",
   "mimetype": "text/x-python",
   "name": "python",
   "nbconvert_exporter": "python",
   "pygments_lexer": "ipython3",
   "version": "3.10.4"
  },
  "vscode": {
   "interpreter": {
    "hash": "657457231345a1573390f5ba8c93db47783ada1b282114062903863290ed8fb1"
   }
  }
 },
 "nbformat": 4,
 "nbformat_minor": 5
}
